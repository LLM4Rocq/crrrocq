{
 "cells": [
  {
   "cell_type": "code",
   "execution_count": 73,
   "metadata": {},
   "outputs": [],
   "source": [
    "import json\n",
    "import re\n",
    "\n",
    "def get_global_premises(constants):\n",
    "    return {d.split(':')[0].strip():\":\".join(d.split(':')[1:]) for d in constants}\n",
    "\n",
    "def get_tactic_premises(premises, tac):\n",
    "    tokens = set(re.findall(r'\\b\\w+\\b', tac))\n",
    "    return [word for word in premises.keys() if word in tokens and len(word) > 1]\n",
    "\n",
    "def print_trace(data):\n",
    "    premises = get_global_premises(data['constants'])\n",
    "    for g_before, step in zip(data['goals'], data['evaluation']):\n",
    "        tac = step['tactic']\n",
    "        p = get_tactic_premises(premises, tac)\n",
    "\n",
    "        print(\"<goals>\")\n",
    "        for i, g in enumerate(g_before):\n",
    "            print(f\"Goal {i}\")\n",
    "            print(g)\n",
    "        print(\"</goals>\\n\")\n",
    "\n",
    "        if p:\n",
    "            print(f\"SEARCH {\" \".join(p)}\\n\")\n",
    "            \n",
    "            print(\"<result>\")\n",
    "            for p in p:\n",
    "                print(f\"{p}: {premises[p]}\\n\")\n",
    "            print(\"</result>\")\n",
    "\n",
    "        print(\"<tactic>\")\n",
    "        print(step['tactic'])\n",
    "        print(\"</tactics>\\n\")\n",
    "\n"
   ]
  },
  {
   "cell_type": "code",
   "execution_count": 74,
   "metadata": {},
   "outputs": [
    {
     "name": "stdout",
     "output_type": "stream",
     "text": [
      "<goals>\n",
      "Goal 0\n",
      "F  : fieldType\n",
      "L  : splittingFieldType F\n",
      "E  : {subfield L}\n",
      "A  : {set gal_of E}\n",
      "a  : L\n",
      "|-a \\in fixedField A -> a \\in E /\\ (forall x : gal_of E, x \\in A -> x a = a)\n",
      "</goals>\n",
      "\n",
      "SEARCH fixedFieldP memv_capP\n",
      "\n",
      "<result>\n",
      "fixedFieldP:  forall E (A : {set gal_of E}) (a : L),\n",
      "       a \\in E ->\n",
      "       reflect (forall x : gal_of E, x \\in A -> x a = a) (a \\in fixedField A)\n",
      "\n",
      "memv_capP:  reflect (?w \\in ?U /\\ ?w \\in ?V) (?w \\in (?U :&: ?V)%VS)\n",
      "where\n",
      "?K : [F : fieldType  L : splittingFieldType F |- fieldType]\n",
      "?vT : [F : fieldType  L : splittingFieldType F |- vectType ?K]\n",
      "?w : [F : fieldType  L : splittingFieldType F |- Vector.sort ?vT]\n",
      "?U : [F : fieldType  L : splittingFieldType F |- {vspace ?vT}]\n",
      "?V : [F : fieldType  L : splittingFieldType F |- {vspace ?vT}]\n",
      "\n",
      "</result>\n",
      "<tactic>\n",
      "by move=> fixAa; have [Ea _] := memv_capP fixAa; have:= fixedFieldP Ea fixAa.\n",
      "</tactics>\n",
      "\n"
     ]
    }
   ],
   "source": [
    "with open('../dataset/traced_mathcomp/galois/term_81.json', 'r') as f:\n",
    "    # Load the JSON data from the file\n",
    "    data = json.load(f)\n",
    "\n",
    "print_trace(data)\n"
   ]
  },
  {
   "cell_type": "code",
   "execution_count": 75,
   "metadata": {},
   "outputs": [
    {
     "name": "stdout",
     "output_type": "stream",
     "text": [
      "<goals>\n",
      "Goal 0\n",
      "R  : semiRingType\n",
      "s  : seq R\n",
      "|-size (Poly s) <= size s\n",
      "</goals>\n",
      "\n",
      "SEARCH polyseqC eqxx\n",
      "\n",
      "<result>\n",
      "polyseqC:  forall c, c%:P = nseq (c != 0) c\n",
      "\n",
      "eqxx:  forall (T : eqType) (x : T), x == x\n",
      "\n",
      "</result>\n",
      "<tactic>\n",
      "elim: s => [|c s IHs] /=; first by rewrite polyseqC eqxx.\n",
      "</tactics>\n",
      "\n",
      "<goals>\n",
      "Goal 0\n",
      "R  : semiRingType\n",
      "c  : R\n",
      "s  : seq R\n",
      "IHs  : size (Poly s) <= size s\n",
      "|-size (cons_poly c (Poly s)) <= (size s).+1\n",
      "</goals>\n",
      "\n",
      "SEARCH size_polyC ifP polyseq_cons\n",
      "\n",
      "<result>\n",
      "size_polyC:  forall c, size c%:P = (c != 0)\n",
      "\n",
      "ifP:  forall (A : Type) (b : bool) (vT vF : A),\n",
      "       if_spec b vT vF (b = false) b (if b then vT else vF)\n",
      "\n",
      "polyseq_cons:  forall c p, cons_poly c p = (if ~~ nilp p then c :: p else c%:P)\n",
      "\n",
      "</result>\n",
      "<tactic>\n",
      "by rewrite polyseq_cons; case: ifP => // _; rewrite size_polyC; case: (~~ _).\n",
      "</tactics>\n",
      "\n"
     ]
    }
   ],
   "source": [
    "with open('../dataset/traced_mathcomp/poly/term_15.json', 'r') as f:\n",
    "    # Load the JSON data from the file\n",
    "    data = json.load(f)\n",
    "\n",
    "print_trace(data)\n",
    "\n"
   ]
  },
  {
   "cell_type": "code",
   "execution_count": 62,
   "metadata": {},
   "outputs": [
    {
     "data": {
      "text/plain": [
       "{'fixedFieldP': ' forall E (A : {set gal_of E}) (a : L),\\n       a \\\\in E ->\\n       reflect (forall x : gal_of E, x \\\\in A -> x a = a) (a \\\\in fixedField A)',\n",
       " 'fixedField': ' forall V, {set gal_of V} -> {vspace L}',\n",
       " 'memv_capP': ' reflect (?w \\\\in ?U /\\\\ ?w \\\\in ?V) (?w \\\\in (?U :&: ?V)%VS)\\nwhere\\n?K : [F : fieldType  L : splittingFieldType F |- fieldType]\\n?vT : [F : fieldType  L : splittingFieldType F |- vectType ?K]\\n?w : [F : fieldType  L : splittingFieldType F |- Vector.sort ?vT]\\n?U : [F : fieldType  L : splittingFieldType F |- {vspace ?vT}]\\n?V : [F : fieldType  L : splittingFieldType F |- {vspace ?vT}]',\n",
       " 'gal_of': ' {vspace L} -> Type'}"
      ]
     },
     "execution_count": 62,
     "metadata": {},
     "output_type": "execute_result"
    }
   ],
   "source": []
  },
  {
   "cell_type": "code",
   "execution_count": null,
   "metadata": {},
   "outputs": [],
   "source": []
  }
 ],
 "metadata": {
  "kernelspec": {
   "display_name": "idris",
   "language": "python",
   "name": "python3"
  },
  "language_info": {
   "codemirror_mode": {
    "name": "ipython",
    "version": 3
   },
   "file_extension": ".py",
   "mimetype": "text/x-python",
   "name": "python",
   "nbconvert_exporter": "python",
   "pygments_lexer": "ipython3",
   "version": "3.12.2"
  }
 },
 "nbformat": 4,
 "nbformat_minor": 2
}
